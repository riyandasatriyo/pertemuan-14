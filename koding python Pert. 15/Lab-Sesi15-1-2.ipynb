{
 "cells": [
  {
   "cell_type": "markdown",
   "metadata": {},
   "source": [
    "<img src=\"img/header.png\"></img>"
   ]
  },
  {
   "cell_type": "markdown",
   "metadata": {},
   "source": [
    "<h2> Menggunakan tweepy untuk Data Crawler </h2>"
   ]
  },
  {
   "cell_type": "code",
   "execution_count": 1,
   "metadata": {
    "collapsed": true
   },
   "outputs": [],
   "source": [
    "#!pip install tweepy"
   ]
  },
  {
   "cell_type": "code",
   "execution_count": 1,
   "metadata": {
    "collapsed": true
   },
   "outputs": [],
   "source": [
    "import tweepy\n",
    "import pandas as pd"
   ]
  },
  {
   "cell_type": "code",
   "execution_count": 2,
   "metadata": {
    "collapsed": true
   },
   "outputs": [],
   "source": [
    "class Stream2Screen(tweepy.StreamListener):\n",
    "\tdef on_status(self, status):\n",
    "\t\tif hasattr(status, 'retweeted_status'):\n",
    "\t\t\ttry:\n",
    "\t\t\t\ttweet = status.retweeted_status.extended_tweet[\"full_text\"]\n",
    "\t\t\texcept:\n",
    "\t\t\t\ttweet = status.retweeted_status.text\n",
    "\t\telse:\n",
    "\t\t\ttry:\n",
    "\t\t\t\ttweet = status.extended_tweet[\"full_text\"]\n",
    "\t\t\texcept AttributeError:\n",
    "\t\t\t\ttweet = status.text"
   ]
  },
  {
   "cell_type": "code",
   "execution_count": 3,
   "metadata": {
    "collapsed": true
   },
   "outputs": [],
   "source": [
    "consumer_key = \"JEj5tRSA9JWjWV6imMOrUIVWV\"        \n",
    "consumer_secret = \"7MEa00KHpUbjxble8pdlV74qPbvW2OHqLtjt45QQraJaAzRmAh\"\n",
    "access_token = \"935208713551364097-W9Oy0IS2M1dRUQS5MZ6Dnz18BkHUP80\"\n",
    "access_secret = \"jCANa7K7werTP2X1mnLlcRBFDHAJt9TZSCbC77FSNCj50\"\n",
    "\n",
    "auth = tweepy.OAuthHandler(consumer_key, consumer_secret)\n",
    "auth.set_access_token(access_token, access_secret)"
   ]
  },
  {
   "cell_type": "code",
   "execution_count": 4,
   "metadata": {
    "collapsed": true
   },
   "outputs": [],
   "source": [
    "api = tweepy.API(auth) # # Construct the API instance\n",
    "#api.update_status('tweepy + oauth!') # coba update status otomatis :D"
   ]
  },
  {
   "cell_type": "code",
   "execution_count": 5,
   "metadata": {},
   "outputs": [
    {
     "name": "stdout",
     "output_type": "stream",
     "text": [
      "BigDataFreeCode\n",
      "935208713551364097\n"
     ]
    }
   ],
   "source": [
    "user = api.get_user(935208713551364097)    \n",
    "print(user.screen_name)\n",
    "\n",
    "user = api.get_user(screen_name = 'BigDataFreeCode')\n",
    "print(user.id)"
   ]
  },
  {
   "cell_type": "code",
   "execution_count": 6,
   "metadata": {
    "collapsed": true
   },
   "outputs": [],
   "source": [
    "tweets = api.search(q=\"#detikcom\", lang=\"id\", count=10, tweet_mode=\"extended\", listener=Stream2Screen())"
   ]
  },
  {
   "cell_type": "code",
   "execution_count": 7,
   "metadata": {
    "collapsed": true,
    "scrolled": true
   },
   "outputs": [],
   "source": [
    "all_tweets = []\n",
    "for tweet in tweets:\n",
    "    #print(\"--------------------\")\n",
    "    #print(tweet.full_text)\n",
    "    #print(\"--------------------\\n\")\n",
    "    all_tweets.append({\"text\": tweet.full_text})\n",
    "tweets_df = pd.DataFrame(all_tweets)"
   ]
  },
  {
   "cell_type": "code",
   "execution_count": 8,
   "metadata": {
    "scrolled": true
   },
   "outputs": [
    {
     "name": "stdout",
     "output_type": "stream",
     "text": [
      "[[\"teruskan merajut merah putih, teruskan bangsa ini bersatu, jangan sampai pecah. Tapi soal kekuasaan, berikan kesempatan yang utuh pada Pak Jokowi-Ma'ruf Amin dengan nanti 5 tahun. Kita awasi dan itulah produk indah demokrasi.\\n#detikcom #detikdotcom #TahuDaridetikcom https://t.co/ErMtOM56gG\"]\n",
      " ['Keren...cakep...salut...merinding...kamu gmn bro? (admin)\\n.\\n#RYLAcademy #RYLifeCoach #RYLMotivasi #RYLWorkshop #detikdotcom #detikcom #indonesia #satuindonesia #nkri https://t.co/lrEkf753ui']\n",
      " ['#WAJIBTAHU #MMP #MALANGMARKETINGPROPERTY #JUALKEBUNAPEL #JUALMURAH #JUALKEBUN #KOTABATU #KOTASURABAYA #KOTAJAKARTA #KOTAMALANG #KABUPATENMALANG #RUMAH123 #KUMPARAN #OLX #BUKALAPAK #DETIKCOM HUBUNGI 08813459963 PAK KUS\\n\\nhttps://t.co/lYmbGszJzm https://t.co/q4LbQpfh34']\n",
      " [\"https://t.co/NoLhDeLaMQ\\n\\nAssalamu'alaikum Warahmatullahi Wabarakatuh.\\n#WAJIBTAHU #MMP #MALANGMARKETINGPROPERTY\\n#JUALRUMAHMURAH #RUMAH123 #KOTAMALANG #JUALBELIRUMAH #KOTASURABAYA\\n#RUMAHISLAMI #TOPNEWS #DETIKCOM #KUMPARAN #OLX\\n\\n*➡ INFO LENGKAP PASTIKAN HUB 08813459963 PAK KUS* https://t.co/lOmpaaxBE6\"]\n",
      " ['#WAJIBTAHU #MMP #MALANGMARKETINGPROPERTY #JUALRUMAH #TAKEOVERTANAH #KOTASURABAYA #KOTABONDOWOSO\\n#RUMAH123\\n#IKLANPROPERTI\\n#DETIKCOM\\n#KUMPARAN #OLX\\nDI TAKE OVERKAN PERUM ISLAMI PERTAMA &amp; TERBESAR DI JATIM.SDH SOLD 50 UNIT INFO HUB 08813459963 PAK KUS\\n\\nhttps://t.co/E1yQ1aVkcJ']\n",
      " ['Kapolrestabes Surabaya Beserta Staf dan Bhayangkari \\nMengucapkan \\nSelamat Ulang Tahun Ke-21 https://t.co/eNNn0bvjdr.\\n.\\n.\\n#detikcom \\n#polisiistimewa \\n#bapaknyabrimob \\n#brimoppolri \\n#brimob \\n#mjasin \\n#komjenpolmjasin… https://t.co/k41Ax4FP53']]\n"
     ]
    }
   ],
   "source": [
    "print(tweets_df.values)"
   ]
  },
  {
   "cell_type": "code",
   "execution_count": 9,
   "metadata": {
    "collapsed": true
   },
   "outputs": [],
   "source": [
    "# export df to json\n",
    "tweets_df.to_json('Data Crawling Tweet 10-2.json')"
   ]
  },
  {
   "cell_type": "code",
   "execution_count": 22,
   "metadata": {},
   "outputs": [
    {
     "name": "stdout",
     "output_type": "stream",
     "text": [
      "                                                                                                                                                                                                                                                                                                                 text\n",
      "0                 teruskan merajut merah putih, teruskan bangsa ini bersatu, jangan sampai pecah. Tapi soal kekuasaan, berikan kesempatan yang utuh pada Pak Jokowi-Ma'ruf Amin dengan nanti 5 tahun. Kita awasi dan itulah produk indah demokrasi.\\n#detikcom #detikdotcom #TahuDaridetikcom https://t.co/ErMtOM56gG\n",
      "1                                                                                                                     Keren...cakep...salut...merinding...kamu gmn bro? (admin)\\n.\\n#RYLAcademy #RYLifeCoach #RYLMotivasi #RYLWorkshop #detikdotcom #detikcom #indonesia #satuindonesia #nkri https://t.co/lrEkf753ui\n",
      "2                                        #WAJIBTAHU #MMP #MALANGMARKETINGPROPERTY #JUALKEBUNAPEL #JUALMURAH #JUALKEBUN #KOTABATU #KOTASURABAYA #KOTAJAKARTA #KOTAMALANG #KABUPATENMALANG #RUMAH123 #KUMPARAN #OLX #BUKALAPAK #DETIKCOM HUBUNGI 08813459963 PAK KUS\\n\\nhttps://t.co/lYmbGszJzm https://t.co/q4LbQpfh34\n",
      "3  https://t.co/NoLhDeLaMQ\\n\\nAssalamu'alaikum Warahmatullahi Wabarakatuh.\\n#WAJIBTAHU #MMP #MALANGMARKETINGPROPERTY\\n#JUALRUMAHMURAH #RUMAH123 #KOTAMALANG #JUALBELIRUMAH #KOTASURABAYA\\n#RUMAHISLAMI #TOPNEWS #DETIKCOM #KUMPARAN #OLX\\n\\n*➡ INFO LENGKAP PASTIKAN HUB 08813459963 PAK KUS* https://t.co/lOmpaaxBE6\n",
      "4                        #WAJIBTAHU #MMP #MALANGMARKETINGPROPERTY #JUALRUMAH #TAKEOVERTANAH #KOTASURABAYA #KOTABONDOWOSO\\n#RUMAH123\\n#IKLANPROPERTI\\n#DETIKCOM\\n#KUMPARAN #OLX\\nDI TAKE OVERKAN PERUM ISLAMI PERTAMA &amp; TERBESAR DI JATIM.SDH SOLD 50 UNIT INFO HUB 08813459963 PAK KUS\\n\\nhttps://t.co/E1yQ1aVkcJ\n"
     ]
    }
   ],
   "source": [
    "# coba print json tersebut\n",
    "pd.options.display.max_colwidth = 500 # sesuaikan dgn maksimal karakter di tweet\n",
    "tweets_json_df = pd.read_json('Data Crawling Tweet 10.json')\n",
    "#print(tweets_json)\n",
    "print(tweets_json_df[:5])"
   ]
  },
  {
   "cell_type": "code",
   "execution_count": 23,
   "metadata": {
    "scrolled": true
   },
   "outputs": [
    {
     "name": "stdout",
     "output_type": "stream",
     "text": [
      "6\n"
     ]
    },
    {
     "data": {
      "text/plain": [
       "pandas.core.frame.DataFrame"
      ]
     },
     "execution_count": 23,
     "metadata": {},
     "output_type": "execute_result"
    }
   ],
   "source": [
    "# join all text\n",
    "print(len(tweets_json_df))\n",
    "type(tweets_json_df)"
   ]
  },
  {
   "cell_type": "code",
   "execution_count": 24,
   "metadata": {
    "scrolled": true
   },
   "outputs": [
    {
     "name": "stdout",
     "output_type": "stream",
     "text": [
      "[\"teruskan merajut merah putih, teruskan bangsa ini bersatu, jangan sampai pecah. Tapi soal kekuasaan, berikan kesempatan yang utuh pada Pak Jokowi-Ma'ruf Amin dengan nanti 5 tahun. Kita awasi dan itulah produk indah demokrasi.\\n#detikcom #detikdotcom #TahuDaridetikcom https://t.co/ErMtOM56gG\"]\n"
     ]
    }
   ],
   "source": [
    "print(tweets_json_df.loc[0].values)"
   ]
  },
  {
   "cell_type": "code",
   "execution_count": 26,
   "metadata": {},
   "outputs": [
    {
     "name": "stdout",
     "output_type": "stream",
     "text": [
      "                                                                                                                                                                                                                                                                                                                 text  \\\n",
      "0                 teruskan merajut merah putih, teruskan bangsa ini bersatu, jangan sampai pecah. Tapi soal kekuasaan, berikan kesempatan yang utuh pada Pak Jokowi-Ma'ruf Amin dengan nanti 5 tahun. Kita awasi dan itulah produk indah demokrasi.\\n#detikcom #detikdotcom #TahuDaridetikcom https://t.co/ErMtOM56gG   \n",
      "1                                                                                                                     Keren...cakep...salut...merinding...kamu gmn bro? (admin)\\n.\\n#RYLAcademy #RYLifeCoach #RYLMotivasi #RYLWorkshop #detikdotcom #detikcom #indonesia #satuindonesia #nkri https://t.co/lrEkf753ui   \n",
      "2                                        #WAJIBTAHU #MMP #MALANGMARKETINGPROPERTY #JUALKEBUNAPEL #JUALMURAH #JUALKEBUN #KOTABATU #KOTASURABAYA #KOTAJAKARTA #KOTAMALANG #KABUPATENMALANG #RUMAH123 #KUMPARAN #OLX #BUKALAPAK #DETIKCOM HUBUNGI 08813459963 PAK KUS\\n\\nhttps://t.co/lYmbGszJzm https://t.co/q4LbQpfh34   \n",
      "3  https://t.co/NoLhDeLaMQ\\n\\nAssalamu'alaikum Warahmatullahi Wabarakatuh.\\n#WAJIBTAHU #MMP #MALANGMARKETINGPROPERTY\\n#JUALRUMAHMURAH #RUMAH123 #KOTAMALANG #JUALBELIRUMAH #KOTASURABAYA\\n#RUMAHISLAMI #TOPNEWS #DETIKCOM #KUMPARAN #OLX\\n\\n*➡ INFO LENGKAP PASTIKAN HUB 08813459963 PAK KUS* https://t.co/lOmpaaxBE6   \n",
      "4                        #WAJIBTAHU #MMP #MALANGMARKETINGPROPERTY #JUALRUMAH #TAKEOVERTANAH #KOTASURABAYA #KOTABONDOWOSO\\n#RUMAH123\\n#IKLANPROPERTI\\n#DETIKCOM\\n#KUMPARAN #OLX\\nDI TAKE OVERKAN PERUM ISLAMI PERTAMA &amp; TERBESAR DI JATIM.SDH SOLD 50 UNIT INFO HUB 08813459963 PAK KUS\\n\\nhttps://t.co/E1yQ1aVkcJ   \n",
      "5                                                          Kapolrestabes Surabaya Beserta Staf dan Bhayangkari \\nMengucapkan \\nSelamat Ulang Tahun Ke-21 https://t.co/eNNn0bvjdr.\\n.\\n.\\n#detikcom \\n#polisiistimewa \\n#bapaknyabrimob \\n#brimoppolri \\n#brimob \\n#mjasin \\n#komjenpolmjasin… https://t.co/k41Ax4FP53   \n",
      "\n",
      "   count  \n",
      "0     37  \n",
      "1     15  \n",
      "2     22  \n",
      "3     26  \n",
      "4     31  \n",
      "5     22  \n"
     ]
    }
   ],
   "source": [
    "tweets_json_df['count'] = tweets_json_df['text'].str.split().str.len()\n",
    "print(tweets_json_df)"
   ]
  },
  {
   "cell_type": "code",
   "execution_count": 113,
   "metadata": {
    "scrolled": true
   },
   "outputs": [],
   "source": [
    "#update status\n",
    "#api.update_status('a a b c d d e') # coba update status otomatis :D\n",
    "#api.update_status('a b b d')\n",
    "#api.update_status('#BigDataFilkomUB a c b d')"
   ]
  },
  {
   "cell_type": "code",
   "execution_count": 115,
   "metadata": {},
   "outputs": [
    {
     "name": "stdout",
     "output_type": "stream",
     "text": [
      "tweepy + oauth!\n",
      "Hi, Aku Cinta Indonesia #jokowi @jokowi\n",
      "a c b d\n",
      "a b b d\n",
      "tweepy + data sicence indonesia\n",
      "tweepy + oauth!\n"
     ]
    }
   ],
   "source": [
    "all_tweets2 = []\n",
    "# search timeline status id_or_name\n",
    "id_or_name = '935208713551364097'\n",
    "#id_or_name = 'BigDataFreeCode'\n",
    "for status in tweepy.Cursor(api.user_timeline, id=id_or_name, tweet_mode='extended').items():\n",
    "    print(status.full_text)    \n",
    "    #all_tweets2.append({\"text\": status.full_text})\n",
    "    all_tweets2.append(status.full_text)\n",
    "tweets_df2 = pd.DataFrame(all_tweets2)"
   ]
  },
  {
   "cell_type": "code",
   "execution_count": 116,
   "metadata": {
    "scrolled": true
   },
   "outputs": [
    {
     "name": "stdout",
     "output_type": "stream",
     "text": [
      "                                         0\n",
      "0                          tweepy + oauth!\n",
      "1  Hi, Aku Cinta Indonesia #jokowi @jokowi\n",
      "2                                  a c b d\n",
      "3                                  a b b d\n",
      "4          tweepy + data sicence indonesia\n",
      "5                          tweepy + oauth!\n"
     ]
    }
   ],
   "source": [
    "print(tweets_df2)"
   ]
  },
  {
   "cell_type": "code",
   "execution_count": 117,
   "metadata": {},
   "outputs": [
    {
     "name": "stdout",
     "output_type": "stream",
     "text": [
      "                                         0  count\n",
      "0                          tweepy + oauth!      3\n",
      "1  Hi, Aku Cinta Indonesia #jokowi @jokowi      6\n",
      "2                                  a c b d      4\n",
      "3                                  a b b d      4\n",
      "4          tweepy + data sicence indonesia      5\n",
      "5                          tweepy + oauth!      3\n"
     ]
    }
   ],
   "source": [
    "# hitung banyak kata tiap tweet\n",
    "tweets_df2['count'] = tweets_df2[0].str.split().str.len()\n",
    "print(tweets_df2)"
   ]
  },
  {
   "cell_type": "code",
   "execution_count": 119,
   "metadata": {
    "scrolled": true
   },
   "outputs": [
    {
     "data": {
      "text/plain": [
       "list"
      ]
     },
     "execution_count": 119,
     "metadata": {},
     "output_type": "execute_result"
    }
   ],
   "source": [
    "type(all_tweets2)"
   ]
  },
  {
   "cell_type": "code",
   "execution_count": 120,
   "metadata": {},
   "outputs": [
    {
     "name": "stdout",
     "output_type": "stream",
     "text": [
      "['tweepy + oauth!', 'Hi, Aku Cinta Indonesia #jokowi @jokowi', 'a c b d', 'a b b d', 'tweepy + data sicence indonesia', 'tweepy + oauth!']\n"
     ]
    }
   ],
   "source": [
    "print(all_tweets2)"
   ]
  },
  {
   "cell_type": "code",
   "execution_count": 121,
   "metadata": {
    "scrolled": true
   },
   "outputs": [
    {
     "name": "stdout",
     "output_type": "stream",
     "text": [
      "['tweepy', '+', 'oauth!', 'hi,', 'aku', 'cinta', 'indonesia', '#jokowi', '@jokowi', 'a', 'c', 'b', 'd', 'a', 'b', 'b', 'd', 'tweepy', '+', 'data', 'sicence', 'indonesia', 'tweepy', '+', 'oauth!']\n",
      "\n",
      "{'tweepy': 3, '+': 3, 'oauth!': 2, 'hi,': 1, 'aku': 1, 'cinta': 1, 'indonesia': 2, '#jokowi': 1, '@jokowi': 1, 'a': 2, 'c': 1, 'b': 3, 'd': 2, 'data': 1, 'sicence': 1}\n",
      "\n",
      "3\n",
      "\n",
      "['tweepy', '+', 'oauth!', 'hi,', 'aku', 'cinta', 'indonesia', '#jokowi', '@jokowi', 'a', 'c', 'b', 'd', 'data', 'sicence']\n",
      "[3, 3, 2, 1, 1, 1, 2, 1, 1, 2, 1, 3, 2, 1, 1]\n"
     ]
    }
   ],
   "source": [
    "# split kata_n_other by space\n",
    "split_kata_n_other = []\n",
    "for item in all_tweets2:\n",
    "    split_kata_n_other.extend(item.lower().split()) # gunakan lowe() untuk lowercase\n",
    "    \n",
    "print(split_kata_n_other)\n",
    "\n",
    "print()\n",
    "\n",
    "#hitung split_kata_n_other unik dan frekuensinya dengan dictionary\n",
    "frek_kata_n_other_dict = {} \n",
    "  \n",
    "for keys in split_kata_n_other: \n",
    "    frek_kata_n_other_dict[keys] = frek_kata_n_other_dict.get(keys, 0) + 1\n",
    "\n",
    "print(frek_kata_n_other_dict)\n",
    "\n",
    "print()\n",
    "\n",
    "print(frek_kata_n_other_dict['tweepy'])\n",
    "\n",
    "print()\n",
    "values = []\n",
    "keys = []\n",
    "for key in frek_kata_n_other_dict.keys():\n",
    "    keys.append(key)\n",
    "    values.append(frek_kata_n_other_dict[key])\n",
    "                \n",
    "print(keys)\n",
    "print(values)"
   ]
  },
  {
   "cell_type": "code",
   "execution_count": 126,
   "metadata": {},
   "outputs": [
    {
     "data": {
      "image/png": "[encoded data removed]",
      "text/plain": [
       "<Figure size 432x288 with 1 Axes>"
      ]
     },
     "metadata": {},
     "output_type": "display_data"
    }
   ],
   "source": [
    "#plot frek_kata_n_other_dict\n",
    "import matplotlib.pyplot as plt\n",
    "plt.bar(list(frek_kata_n_other_dict.keys()), frek_kata_n_other_dict.values(), color='g')\n",
    "\n",
    "plt.tick_params(axis='x', rotation=70)\n",
    "\n",
    "plt.show()\n",
    "plt.close()"
   ]
  },
  {
   "cell_type": "markdown",
   "metadata": {},
   "source": [
    "### Untuk Data Crawling Streaming"
   ]
  },
  {
   "cell_type": "code",
   "execution_count": 13,
   "metadata": {
    "collapsed": true
   },
   "outputs": [],
   "source": [
    "stream2Screen = Stream2Screen()\n",
    "stream = tweepy.Stream(auth=api.auth, listener=stream2Screen)"
   ]
  },
  {
   "cell_type": "code",
   "execution_count": 14,
   "metadata": {
    "collapsed": true
   },
   "outputs": [],
   "source": [
    "# Dalam contoh ini digunakan filter untuk streaming semua tweet yang berisi kata BigData\n",
    "# Parameter track adalah istilah pencarian untuk streaming\n",
    "#stream.filter(track='BigData')"
   ]
  },
  {
   "cell_type": "code",
   "execution_count": 15,
   "metadata": {
    "collapsed": true
   },
   "outputs": [],
   "source": [
    "# Dalam contoh ini digunakan filter untuk streaming semua tweet yang berisi kata BigData,\n",
    "# lalu me-RT\n",
    "# Parameter track adalah istilah pencarian untuk streaming\n",
    "#stream.filter(track='BigData -RT')\n",
    "\n",
    "# Dalam contoh ini digunakan filter untuk mem-block semua tweet yang berisi kata python,\n",
    "# stream.filter(track=['python'], is_async=True)"
   ]
  },
  {
   "cell_type": "code",
   "execution_count": 16,
   "metadata": {
    "collapsed": true
   },
   "outputs": [],
   "source": [
    "# Dalam contoh ini digunakan filter untuk streaming tweet pada spesifik user by ID,\n",
    "#stream.filter(follow=[\"935208713551364097\"])"
   ]
  },
  {
   "cell_type": "markdown",
   "metadata": {
    "collapsed": true
   },
   "source": [
    "<img src=\"img/thumbs-up.png\"></img>"
   ]
  },
  {
   "cell_type": "code",
   "execution_count": null,
   "metadata": {
    "collapsed": true
   },
   "outputs": [],
   "source": []
  }
 ],
 "metadata": {
  "kernelspec": {
   "display_name": "Python 3",
   "language": "python",
   "name": "python3"
  },
  "language_info": {
   "codemirror_mode": {
    "name": "ipython",
    "version": 3
   },
   "file_extension": ".py",
   "mimetype": "text/x-python",
   "name": "python",
   "nbconvert_exporter": "python",
   "pygments_lexer": "ipython3",
   "version": "3.6.3"
  }
 },
 "nbformat": 4,
 "nbformat_minor": 2
}
